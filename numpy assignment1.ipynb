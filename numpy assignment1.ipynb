{
 "cells": [
  {
   "cell_type": "code",
   "execution_count": 1,
   "id": "a2029ff4-f432-49f5-b4ac-096a92728a84",
   "metadata": {},
   "outputs": [],
   "source": [
    "import numpy as np"
   ]
  },
  {
   "cell_type": "code",
   "execution_count": 10,
   "id": "de15dd70-4425-4d65-99fc-b28751b0e666",
   "metadata": {},
   "outputs": [],
   "source": [
    "a = [[1,2,3] , [4,5,6]]\n"
   ]
  },
  {
   "cell_type": "code",
   "execution_count": 11,
   "id": "bd7976cb-af40-4410-8b97-d3e5522f6a0a",
   "metadata": {},
   "outputs": [],
   "source": [
    "num_array = np.array(object= num_array)"
   ]
  },
  {
   "cell_type": "markdown",
   "id": "fce31e76-a229-4222-a750-0ff395a7c22b",
   "metadata": {},
   "source": [
    "Que1: write a code to find the characteristics of variable , num_array"
   ]
  },
  {
   "cell_type": "code",
   "execution_count": 12,
   "id": "413cbede-1dc9-4d4b-b38f-ac840b7476e0",
   "metadata": {},
   "outputs": [
    {
     "data": {
      "text/plain": [
       "(2, 3)"
      ]
     },
     "execution_count": 12,
     "metadata": {},
     "output_type": "execute_result"
    }
   ],
   "source": [
    "np.shape(a)"
   ]
  },
  {
   "cell_type": "code",
   "execution_count": 13,
   "id": "25735810-ab00-474c-8c1e-806654c0f47e",
   "metadata": {},
   "outputs": [
    {
     "data": {
      "text/plain": [
       "6"
      ]
     },
     "execution_count": 13,
     "metadata": {},
     "output_type": "execute_result"
    }
   ],
   "source": [
    "np.size(a)"
   ]
  },
  {
   "cell_type": "markdown",
   "id": "5921316c-0f7c-4b9e-9f43-9e32c7b7a799",
   "metadata": {},
   "source": [
    "Que 2: write a code to create numpy array of 3*3 matrix containing zeros only, using numpy array creation function"
   ]
  },
  {
   "cell_type": "code",
   "execution_count": 15,
   "id": "0fc1bf4f-c874-43d8-aa62-676cfdf1e593",
   "metadata": {},
   "outputs": [
    {
     "data": {
      "text/plain": [
       "array([[0., 0., 0.],\n",
       "       [0., 0., 0.],\n",
       "       [0., 0., 0.]])"
      ]
     },
     "execution_count": 15,
     "metadata": {},
     "output_type": "execute_result"
    }
   ],
   "source": [
    "np.zeros([3,3])"
   ]
  },
  {
   "cell_type": "markdown",
   "id": "717df61d-6db1-4dc3-af51-5965df4effaf",
   "metadata": {},
   "source": [
    "Que3: create an identity matrix of shape(5,5) using numpy function?"
   ]
  },
  {
   "cell_type": "code",
   "execution_count": 54,
   "id": "3153c002-2c7b-4e94-b6b5-80b20bb78a19",
   "metadata": {},
   "outputs": [
    {
     "data": {
      "text/plain": [
       "array([[0., 0., 0., 0., 0.],\n",
       "       [0., 0., 0., 0., 0.],\n",
       "       [0., 0., 0., 0., 0.],\n",
       "       [0., 0., 0., 0., 0.],\n",
       "       [0., 0., 0., 0., 0.]])"
      ]
     },
     "execution_count": 54,
     "metadata": {},
     "output_type": "execute_result"
    }
   ],
   "source": [
    "np.zeros((5,5))"
   ]
  },
  {
   "cell_type": "markdown",
   "id": "19eb2459-840a-400e-9270-d2192ff5d70d",
   "metadata": {},
   "source": [
    "Que4: is there any difference of data type of variable list and array list ? if there is then write a code tp print the data type of both the variables."
   ]
  },
  {
   "cell_type": "code",
   "execution_count": 11,
   "id": "a466d8e1-8223-4462-bc1d-038a0a9faacb",
   "metadata": {},
   "outputs": [],
   "source": [
    "import numpy as np"
   ]
  },
  {
   "cell_type": "code",
   "execution_count": 12,
   "id": "a9501960-f46f-4e02-a8d4-c71e2afab60b",
   "metadata": {},
   "outputs": [],
   "source": [
    "s= ['1' , '2' , '3' , '4', '5']"
   ]
  },
  {
   "cell_type": "code",
   "execution_count": 15,
   "id": "4051b1c9-5689-4ef5-9079-c2350c0ca097",
   "metadata": {},
   "outputs": [],
   "source": [
    "array_list= np.array(object=list)"
   ]
  },
  {
   "cell_type": "code",
   "execution_count": 16,
   "id": "53fe289b-437d-4663-88a8-5f3236a9323b",
   "metadata": {},
   "outputs": [
    {
     "data": {
      "text/plain": [
       "array(['1', '2', '3', '4', '5'], dtype='<U1')"
      ]
     },
     "execution_count": 16,
     "metadata": {},
     "output_type": "execute_result"
    }
   ],
   "source": [
    "np.array(s)"
   ]
  },
  {
   "cell_type": "code",
   "execution_count": 17,
   "id": "59aa9e96-fc6c-4fbc-9ffc-490dd3159eef",
   "metadata": {
    "tags": []
   },
   "outputs": [],
   "source": [
    "d=[1,2,3,4,5]"
   ]
  },
  {
   "cell_type": "code",
   "execution_count": 18,
   "id": "21df1ca6-ce37-4d93-9f34-7d0545ceb6f4",
   "metadata": {},
   "outputs": [
    {
     "data": {
      "text/plain": [
       "array([1, 2, 3, 4, 5])"
      ]
     },
     "execution_count": 18,
     "metadata": {},
     "output_type": "execute_result"
    }
   ],
   "source": [
    "np.array(d)"
   ]
  },
  {
   "cell_type": "code",
   "execution_count": 25,
   "id": "8718026c-68cc-4001-9837-448215ee54eb",
   "metadata": {},
   "outputs": [
    {
     "data": {
      "text/plain": [
       "numpy.dtype"
      ]
     },
     "execution_count": 25,
     "metadata": {},
     "output_type": "execute_result"
    }
   ],
   "source": [
    "np.dtype"
   ]
  }
 ],
 "metadata": {
  "kernelspec": {
   "display_name": "Python 3 (ipykernel)",
   "language": "python",
   "name": "python3"
  },
  "language_info": {
   "codemirror_mode": {
    "name": "ipython",
    "version": 3
   },
   "file_extension": ".py",
   "mimetype": "text/x-python",
   "name": "python",
   "nbconvert_exporter": "python",
   "pygments_lexer": "ipython3",
   "version": "3.10.8"
  }
 },
 "nbformat": 4,
 "nbformat_minor": 5
}
